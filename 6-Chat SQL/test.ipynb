{
 "cells": [
  {
   "cell_type": "code",
   "execution_count": null,
   "id": "587c9eaf",
   "metadata": {},
   "outputs": [
    {
     "data": {
      "text/plain": [
       "True"
      ]
     },
     "execution_count": 1,
     "metadata": {},
     "output_type": "execute_result"
    }
   ],
   "source": [
    "import os\n",
    "from openai import AzureOpenAI\n",
    "from dotenv import load_dotenv \n",
    "load_dotenv('.env')\n",
    "\n",
    "subscription_key =\"AZURE_OPENAI_API_KEY\"\n",
    "\n",
    "\n",
    "\n"
   ]
  },
  {
   "cell_type": "code",
   "execution_count": 3,
   "id": "00e68f12",
   "metadata": {},
   "outputs": [],
   "source": [
    "AZURE_OPENAI_CONFIG = {\n",
    "    \"api_key\": os.getenv(\"AZURE_OPENAI_API_KEY\"),\n",
    "    \"api_version\": os.getenv(\"AZURE_OPENAI_API_VERSION\"),\n",
    "    \"azure_endpoint\": os.getenv(\"AZURE_OPENAI_ENDPOINT\"),\n",
    "    \"deployment_name\": os.getenv(\"AZURE_OPENAI_DEPLOYMENT\")\n",
    "}\n"
   ]
  },
  {
   "cell_type": "code",
   "execution_count": null,
   "id": "7c142e4e",
   "metadata": {},
   "outputs": [],
   "source": []
  },
  {
   "cell_type": "code",
   "execution_count": 6,
   "id": "4dee46c7",
   "metadata": {},
   "outputs": [],
   "source": [
    "POSTGRES_CONFIG = {\n",
    "    'host': os.getenv('DB_HOST'),\n",
    "    'port': os.getenv('DB_PORT', 5432),\n",
    "    'user': os.getenv('DB_USER'),\n",
    "    'password': os.getenv('DB_PASSWORD'),\n",
    "    'database': os.getenv('DB_NAME')\n",
    "}\n"
   ]
  },
  {
   "cell_type": "code",
   "execution_count": null,
   "id": "db88b152",
   "metadata": {},
   "outputs": [
    {
     "name": "stdout",
     "output_type": "stream",
     "text": [
      "Paris is a beautiful city with a rich cultural heritage and many attractions. Here are some must-see sights and experiences:\n",
      "\n",
      "1. **Eiffel Tower**: No visit to Paris is complete without seeing this iconic landmark. You can go up for breathtaking views of the city.\n",
      "\n",
      "2. **Louvre Museum**: Home to thousands of works of art, including the Mona Lisa and the Venus de Milo. It's the world's largest art museum.\n",
      "\n",
      "3. **Notre-Dame Cathedral**: An architectural masterpiece with stunning stained glass windows. (Note that restoration is ongoing after the fire in 2019, so check for any visitor updates.)\n",
      "\n",
      "4. **Montmartre**: A charming neighborhood known for the Basilica of Sacré-Cœur and its artistic history. Stroll the cobblestone streets and enjoy the views.\n",
      "\n",
      "5. **Champs-Élysées and Arc de Triomphe**: Walk along this famous avenue and visit the majestic Arc de Triomphe, which offers another great view of the city.\n",
      "\n",
      "6. **Seine River Cruise**: Consider a boat cruise on the Seine for a unique perspective of many landmarks, especially at night when the city is beautifully illuminated.\n",
      "\n",
      "7. **Palace of Versailles**: Just outside of Paris, this grand palace and its gardens are worth a day trip.\n",
      "\n",
      "8. **Musée d'Orsay**: An art museum housed in a former railway station, featuring an extensive collection of Impressionist and Post-Impressionist masterpieces.\n",
      "\n",
      "9. **Sainte-Chapelle**: Known for its stunning stained glass windows, this Gothic chapel is located on Île de la Cité.\n",
      "\n",
      "10. **Luxembourg Gardens**: A beautiful park perfect for a relaxing stroll or a picnic.\n",
      "\n",
      "11. **Latin Quarter**: Wander the narrow streets of this historic neighborhood, home to the Sorbonne and many cafes.\n",
      "\n",
      "12. **Shopping in Le Marais**: Explore this trendy district with boutiques, galleries, and vibrant cafes.\n",
      "\n",
      "13. **Pantheon**: A mausoleum that honors prominent French figures, with a stunning dome and beautiful crypts.\n",
      "\n",
      "14. **Catacombs of Paris**: If you're interested in history, the underground ossuary offers a glimpse into the city’s past.\n",
      "\n",
      "15. **Le Palais Garnier (Opera House)**: An opulent opera house with guided tours available to explore its stunning architecture.\n",
      "\n",
      "Try to also enjoy some French cuisine at local bistros, patisseries, and cafes, and take time to simply stroll the streets and soak in the atmosphere. Enjoy your trip to Paris!\n"
     ]
    }
   ],
   "source": [
    "import os\n",
    "from openai import AzureOpenAI\n",
    "from dotenv import load_dotenv \n",
    "endpoint = \"AZURE_OPENAI_ENDPOINT\"\n",
    "deployment = \"AZURE_OPENAI_DEPLOYMENT\"\n",
    "model_name = \"AZURE_OPENAI_DEPLOYMENT\"\n",
    "api_version = \"AZURE_OPENAI_API_VERSION\"\n",
    "\n",
    "client = AzureOpenAI(\n",
    "    api_version=api_version,\n",
    "    azure_endpoint=endpoint,\n",
    "    api_key=subscription_key,\n",
    ")\n",
    "\n",
    "response = client.chat.completions.create(\n",
    "    messages=[\n",
    "        {\n",
    "            \"role\": \"system\",\n",
    "            \"content\": \"You are a helpful assistant.\",\n",
    "        },\n",
    "        {\n",
    "            \"role\": \"user\",\n",
    "            \"content\": \"I am going to Paris, what should I see?\",\n",
    "        }\n",
    "    ],\n",
    "    max_tokens=4096,\n",
    "    temperature=1.0,\n",
    "    top_p=1.0,\n",
    "    model=deployment\n",
    ")\n",
    "\n",
    "print(response.choices[0].message.content)"
   ]
  },
  {
   "cell_type": "code",
   "execution_count": null,
   "id": "c05867ce",
   "metadata": {},
   "outputs": [],
   "source": []
  },
  {
   "cell_type": "code",
   "execution_count": null,
   "id": "313335ff",
   "metadata": {},
   "outputs": [],
   "source": []
  },
  {
   "cell_type": "code",
   "execution_count": null,
   "id": "f3f049d7",
   "metadata": {},
   "outputs": [],
   "source": []
  },
  {
   "cell_type": "code",
   "execution_count": null,
   "id": "be7f9a3d",
   "metadata": {},
   "outputs": [],
   "source": []
  },
  {
   "cell_type": "code",
   "execution_count": null,
   "id": "3a10b44a",
   "metadata": {},
   "outputs": [],
   "source": []
  },
  {
   "cell_type": "code",
   "execution_count": null,
   "id": "f6d6ad6e",
   "metadata": {},
   "outputs": [],
   "source": []
  },
  {
   "cell_type": "code",
   "execution_count": null,
   "id": "a7946160",
   "metadata": {},
   "outputs": [],
   "source": []
  }
 ],
 "metadata": {
  "kernelspec": {
   "display_name": "venv",
   "language": "python",
   "name": "python3"
  },
  "language_info": {
   "codemirror_mode": {
    "name": "ipython",
    "version": 3
   },
   "file_extension": ".py",
   "mimetype": "text/x-python",
   "name": "python",
   "nbconvert_exporter": "python",
   "pygments_lexer": "ipython3",
   "version": "3.12.3"
  }
 },
 "nbformat": 4,
 "nbformat_minor": 5
}
